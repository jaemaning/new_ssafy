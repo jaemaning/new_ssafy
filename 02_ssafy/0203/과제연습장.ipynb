{
 "cells": [
  {
   "cell_type": "code",
   "execution_count": 4,
   "metadata": {},
   "outputs": [
    {
     "name": "stdout",
     "output_type": "stream",
     "text": [
      "86.75\n"
     ]
    }
   ],
   "source": [
    "score = {\n",
    "    'python': 80,\n",
    "    'django': 89,\n",
    "    'web': 83\n",
    "}\n",
    "\n",
    "score[\"algorithm\"] = 90\n",
    "score[\"python\"] = 85\n",
    "\n",
    "print(sum(score.values()) / len(score.values()))\n"
   ]
  },
  {
   "cell_type": "code",
   "execution_count": 8,
   "metadata": {},
   "outputs": [
    {
     "name": "stdout",
     "output_type": "stream",
     "text": [
      "9\n"
     ]
    }
   ],
   "source": [
    "s = input('숫자를 입력해주세요 : ')\n",
    "result = 0\n",
    "\n",
    "for i in s:\n",
    "    result += int(i)\n",
    "\n",
    "print(result)"
   ]
  },
  {
   "cell_type": "code",
   "execution_count": 15,
   "metadata": {},
   "outputs": [
    {
     "name": "stdout",
     "output_type": "stream",
     "text": [
      "2100 년은 윤년이 아닙니다.\n"
     ]
    }
   ],
   "source": [
    "# 과제 3-2\n",
    "'''\n",
    "윤년판단하기\n",
    "해가 4의 배수이면서 100의 배수가 아니면 윤년\n",
    "400의 배수면 윤년\n",
    "위 두 조건중 하나라도 맞으면 윤년\n",
    "'''\n",
    "year = int(input())\n",
    "\n",
    "if (year % 400 == 0 ) or (year % 4 == 0 and year % 100 != 0):\n",
    "    print(f\"{year}년은 윤년.\")\n",
    "else :\n",
    "    print(f\"{year}년은 윤년이 아닙니다.\")"
   ]
  },
  {
   "cell_type": "code",
   "execution_count": 21,
   "metadata": {},
   "outputs": [
    {
     "name": "stdout",
     "output_type": "stream",
     "text": [
      "5번째 사람 중복으로 탈락!\n"
     ]
    }
   ],
   "source": [
    "# 과제 4-2\n",
    "'''\n",
    "끝말잇기 단어의 리스트가 주어졌을 때, \n",
    "몇 번째 사람이 탈락하는지 확인하는 코드를 작성하시오.\n",
    "조건\n",
    "- 앞서 입력된 단어의 마지막 문자로 시작하는 단어를 말해야 합니다.\n",
    "- 끝말잇기를 틀리거나 이전에 등장했던 단어를 사용하는 경우, 지게 됩니다.\n",
    "'''\n",
    "\n",
    "words = [\"round\" , \"dream\", \"magnet\" , \"tweet\" , \"tweet\", \"trick\", \"kiwi\"]\n",
    "\n",
    "used_word = [] # 사용한 단어 담는 그릇\n",
    "\n",
    "for idx,word in enumerate(words):\n",
    "    word = word.lower() # 대문자로 탈락하는건 아쉬우니까 봐줌\n",
    "\n",
    "    if word in used_word:\n",
    "        print(f\"{idx+1}번째 사람 중복으로 탈락!\") # 중복 탈락 메세지 후 종료\n",
    "        break\n",
    "\n",
    "    used_word.append(word) # 사용한 단어 모아두기\n",
    "    \n",
    "    ## 두번째 단어부턴 앞단어랑 끝말잇기 확인\n",
    "    if idx > 0:\n",
    "        if used_word[idx-1][-1] != used_word[idx][0] :\n",
    "            print(f\"{idx+1}번째 사람 끝말잇기를 못해서 탈락!\")\n",
    "            break\n",
    "else:\n",
    "    print(\"모두 참 잘했어요~\") # 모두 통과했다면\n",
    "\n",
    "\n",
    "        \n"
   ]
  }
 ],
 "metadata": {
  "kernelspec": {
   "display_name": "Python 3",
   "language": "python",
   "name": "python3"
  },
  "language_info": {
   "codemirror_mode": {
    "name": "ipython",
    "version": 3
   },
   "file_extension": ".py",
   "mimetype": "text/x-python",
   "name": "python",
   "nbconvert_exporter": "python",
   "pygments_lexer": "ipython3",
   "version": "3.10.0 (tags/v3.10.0:b494f59, Oct  4 2021, 19:00:18) [MSC v.1929 64 bit (AMD64)]"
  },
  "orig_nbformat": 4,
  "vscode": {
   "interpreter": {
    "hash": "26de051ba29f2982a8de78e945f0abaf191376122a1563185a90213a26c5da77"
   }
  }
 },
 "nbformat": 4,
 "nbformat_minor": 2
}
