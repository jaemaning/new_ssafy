{
 "cells": [
  {
   "attachments": {},
   "cell_type": "markdown",
   "metadata": {},
   "source": [
    "## 나동빈 youtube 이코테 2021 알고리즘 강의 중 greedy 문제.\n",
    "\n",
    "[링크](https://www.youtube.com/watch?v=2zjoKjt97vQ&list=PLRx0vPvlEmdAghTr5mXQxGpHjWqSz0dgC&index=2)"
   ]
  },
  {
   "attachments": {},
   "cell_type": "markdown",
   "metadata": {},
   "source": [
    "### python 은 기본적으로 1초 1000만~2000만 회 연산을 가정하고,\n",
    "\n",
    "### 문제에서 시간복잡도가 주어지지 않았을경우 3초라고 가정하고 시간복잡도를 계산하면됨.\n",
    "\n",
    "\n",
    "\n",
    "> 직관적으로 문제를 풀되 시간초과에 걸렸다면\n",
    "\n",
    "- 제일 처음 문제를 보자마자 데이터의 개수를 보고 O(N^3) O(N^2) O(NlogN) 등 어떻게 풀어야 풀릴지 대략적으로\n",
    "     계산해 볼 것 => 이 과정을 거치지 않고 문제 풀기에 바로 들어갈 경우 시간 초과에 걸릴 확률이 높다.\n",
    "\n",
    "- for문 동작시 O(N) 를 어떻게하면 O(logN) 으로 바꿀수 있을지 생각해볼것.\n",
    "\n",
    "- 너무많은 for문과 함수를 사용하고 있다면 for문을 한번 돌때 여러개의 연산과 결과값을 바로바로 계산되게끔하여\n",
    "     여러개의 for문을 하나의 for문으로 묶어 만들어 줄것.\n",
    "\n",
    "\n",
    "\n",
    "\n",
    "\n"
   ]
  },
  {
   "cell_type": "code",
   "execution_count": null,
   "metadata": {},
   "outputs": [],
   "source": [
    "# 거스름돈\n",
    "\n",
    "n=1260\n",
    "cnt =0\n",
    "nlist=[500,100,50,10]\n",
    "\n",
    "#\n",
    "for i in nlist:\n",
    "    a=n//i\n",
    "    n=n-a*i\n",
    "    cnt+=a\n",
    "\n",
    "print(cnt)"
   ]
  },
  {
   "cell_type": "code",
   "execution_count": 6,
   "metadata": {},
   "outputs": [
    {
     "name": "stdout",
     "output_type": "stream",
     "text": [
      "6\n"
     ]
    }
   ],
   "source": [
    "# 1이 될 떄까지\n",
    "\n",
    "n, m = map(int,input().split())\n",
    "cnt = 0\n",
    "\n",
    "while n != 1 :\n",
    "    if n % m == 0:\n",
    "        n /= m\n",
    "        cnt += 1\n",
    "    else :\n",
    "        n -= 1\n",
    "        cnt += 1\n",
    "\n",
    "\n",
    "print(cnt)\n",
    "\n",
    "## 이렇게 직관적 구현시 시간 복잡도는 O(N)"
   ]
  },
  {
   "cell_type": "code",
   "execution_count": 12,
   "metadata": {},
   "outputs": [
    {
     "name": "stdout",
     "output_type": "stream",
     "text": [
      "6\n"
     ]
    }
   ],
   "source": [
    "# 1이 될 떄까지\n",
    "\n",
    "n, m = map(int,input().split())\n",
    "cnt = 0\n",
    "\n",
    "while True :\n",
    "    target = (n//m) * m\n",
    "    cnt += n-target\n",
    "    n = target\n",
    "\n",
    "    if n < m:\n",
    "        break\n",
    "\n",
    "    n /= m\n",
    "    cnt+=1\n",
    "\n",
    "cnt += n-1\n",
    "\n",
    "print(int(cnt))\n",
    "\n",
    "\n",
    "## 이렇게 논리적 구현시 시간 복잡도는 O(logN)"
   ]
  },
  {
   "cell_type": "code",
   "execution_count": 7,
   "metadata": {},
   "outputs": [
    {
     "name": "stdout",
     "output_type": "stream",
     "text": [
      "210\n"
     ]
    }
   ],
   "source": [
    "# 곱하기 혹은 더하기\n",
    "\n",
    "numbers = input()\n",
    "result = 0\n",
    "\n",
    "for num in numbers:\n",
    "    num = int(num)\n",
    "\n",
    "    if num <= 1 or result <= 1 :\n",
    "        result += num\n",
    "\n",
    "    elif num > 1 and result > 1 :\n",
    "        result *= num\n",
    "\n",
    "print(result)"
   ]
  },
  {
   "cell_type": "code",
   "execution_count": 15,
   "metadata": {},
   "outputs": [
    {
     "name": "stdout",
     "output_type": "stream",
     "text": [
      "2\n"
     ]
    }
   ],
   "source": [
    "# 모험가 길드\n",
    "\n",
    "n = int(input())\n",
    "nlist = list(map(int,input().split()))\n",
    "cnt = 0\n",
    "\n",
    "for i in range(1, max(nlist)+1):\n",
    "    cnt += nlist.count(i) // i\n",
    "\n",
    "    for _ in range(nlist.count(i) % i) :\n",
    "        nlist.append(i+1)\n",
    "\n",
    "print(cnt)\n"
   ]
  }
 ],
 "metadata": {
  "kernelspec": {
   "display_name": "Python 3",
   "language": "python",
   "name": "python3"
  },
  "language_info": {
   "codemirror_mode": {
    "name": "ipython",
    "version": 3
   },
   "file_extension": ".py",
   "mimetype": "text/x-python",
   "name": "python",
   "nbconvert_exporter": "python",
   "pygments_lexer": "ipython3",
   "version": "3.10.0"
  },
  "orig_nbformat": 4,
  "vscode": {
   "interpreter": {
    "hash": "26de051ba29f2982a8de78e945f0abaf191376122a1563185a90213a26c5da77"
   }
  }
 },
 "nbformat": 4,
 "nbformat_minor": 2
}
