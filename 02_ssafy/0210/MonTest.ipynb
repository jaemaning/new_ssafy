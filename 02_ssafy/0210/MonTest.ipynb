{
 "cells": [
  {
   "cell_type": "code",
   "execution_count": 6,
   "metadata": {},
   "outputs": [
    {
     "name": "stdout",
     "output_type": "stream",
     "text": [
      "[1, 2, 3, 4, 5, 6, 7, 8]\n"
     ]
    }
   ],
   "source": [
    "# 버블정렬 (Bubble sort)\n",
    "\n",
    "# index 0 부터 n-2 까지 두개씩 비교하여 작은값을 왼쪽으로 보내는 작업을 계속한다.\n",
    "# 시간 복잡도가 O(N**2)\n",
    "n_list = [7,5,6,8,2,4,3,1]\n",
    "n = len(n_list)\n",
    "\n",
    "def BubbleSort(lst):\n",
    "    for i in range(n):\n",
    "        for j in range(n-1-i):\n",
    "            # 만약 왼쪽값이 더 크다면, 오름차순 정렬을 위해 두 값의 위치를 바꾼다.\n",
    "            if lst[j] > lst[j+1]:\n",
    "                lst[j], lst[j+1] = lst[j+1], lst[j]\n",
    "\n",
    "    return lst\n",
    "    \n",
    "print(BubbleSort(n_list))\n"
   ]
  },
  {
   "cell_type": "code",
   "execution_count": null,
   "metadata": {},
   "outputs": [],
   "source": [
    "# 카운팅정렬 (Counting sort)\n",
    "\n",
    "# \n"
   ]
  },
  {
   "cell_type": "code",
   "execution_count": null,
   "metadata": {},
   "outputs": [],
   "source": [
    "# 선택정렬 (Selection sort)"
   ]
  }
 ],
 "metadata": {
  "kernelspec": {
   "display_name": "Python 3",
   "language": "python",
   "name": "python3"
  },
  "language_info": {
   "codemirror_mode": {
    "name": "ipython",
    "version": 3
   },
   "file_extension": ".py",
   "mimetype": "text/x-python",
   "name": "python",
   "nbconvert_exporter": "python",
   "pygments_lexer": "ipython3",
   "version": "3.9.12"
  },
  "orig_nbformat": 4,
  "vscode": {
   "interpreter": {
    "hash": "c4b9ebf4ca459396e2ad1150752490c26670c1a037c08cad955a4425787bec2e"
   }
  }
 },
 "nbformat": 4,
 "nbformat_minor": 2
}
