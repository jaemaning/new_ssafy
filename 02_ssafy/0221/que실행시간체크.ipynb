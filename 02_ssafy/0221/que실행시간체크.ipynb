{
 "cells": [
  {
   "cell_type": "code",
   "execution_count": 1,
   "metadata": {},
   "outputs": [
    {
     "name": "stdout",
     "output_type": "stream",
     "text": [
      "0.022014856338500977\n"
     ]
    }
   ],
   "source": [
    "# 1. front, rear 사용한  선형큐\n",
    "import time\n",
    "\n",
    "n = 100000\n",
    "q = [0] * n\n",
    "front = rear = -1\n",
    "\n",
    "start = time.time()\n",
    "\n",
    "for i in range(n):\n",
    "    rear += 1\n",
    "    q[rear] = i\n",
    "\n",
    "for i in range(n):\n",
    "    front += 1\n",
    "    x = q[front]\n",
    "\n",
    "end = time.time()\n",
    "\n",
    "print(end-start)"
   ]
  },
  {
   "cell_type": "code",
   "execution_count": 2,
   "metadata": {},
   "outputs": [
    {
     "name": "stdout",
     "output_type": "stream",
     "text": [
      "0.013962030410766602\n"
     ]
    }
   ],
   "source": [
    "# 2. deque 라이브러리\n",
    "from collections import deque\n",
    "\n",
    "q2 = deque()\n",
    "\n",
    "start = time.time()\n",
    "\n",
    "for i in range(n):\n",
    "    q2.append(i)\n",
    "\n",
    "for i in range(n):\n",
    "    q2.popleft()\n",
    "\n",
    "\n",
    "end = time.time()\n",
    "\n",
    "print(end-start)"
   ]
  },
  {
   "cell_type": "code",
   "execution_count": 3,
   "metadata": {},
   "outputs": [
    {
     "name": "stdout",
     "output_type": "stream",
     "text": [
      "0.8466639518737793\n"
     ]
    }
   ],
   "source": [
    "# 3. append, pop(0) 사용\n",
    "\n",
    "q3 = []\n",
    "\n",
    "start = time.time()\n",
    "\n",
    "for i in range(n):\n",
    "    q3.append(i)\n",
    "\n",
    "for i in range(n):\n",
    "    q3.pop(0)\n",
    "    \n",
    "\n",
    "end = time.time()\n",
    "\n",
    "print(end-start)"
   ]
  },
  {
   "cell_type": "code",
   "execution_count": null,
   "metadata": {},
   "outputs": [],
   "source": []
  }
 ],
 "metadata": {
  "kernelspec": {
   "display_name": "Python 3",
   "language": "python",
   "name": "python3"
  },
  "language_info": {
   "codemirror_mode": {
    "name": "ipython",
    "version": 3
   },
   "file_extension": ".py",
   "mimetype": "text/x-python",
   "name": "python",
   "nbconvert_exporter": "python",
   "pygments_lexer": "ipython3",
   "version": "3.9.12"
  },
  "orig_nbformat": 4,
  "vscode": {
   "interpreter": {
    "hash": "c4b9ebf4ca459396e2ad1150752490c26670c1a037c08cad955a4425787bec2e"
   }
  }
 },
 "nbformat": 4,
 "nbformat_minor": 2
}
