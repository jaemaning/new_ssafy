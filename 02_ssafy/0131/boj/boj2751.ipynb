{
 "cells": [
  {
   "cell_type": "code",
   "execution_count": 2,
   "metadata": {},
   "outputs": [
    {
     "name": "stdout",
     "output_type": "stream",
     "text": [
      "1\n",
      "2\n",
      "3\n",
      "4\n",
      "5\n"
     ]
    }
   ],
   "source": [
    "#2751 수 정렬하기2 (병합정렬 O(NlogN) 사용해야함)\n",
    "\n",
    "n = int(input())\n",
    "xlist=[]\n",
    "\n",
    "for i in range(n):\n",
    "    x = int(input())\n",
    "    xlist.append(x)\n",
    "\n",
    "def mergeLR(l,r):\n",
    "    re = []\n",
    "    i,j = 0,0\n",
    "\n",
    "    while i < len(l) and j < len(r):\n",
    "        if l[i] < r[j]:\n",
    "            re.append(l[i])\n",
    "            i+=1\n",
    "        else:\n",
    "            re.append(r[j])\n",
    "            j+=1\n",
    "    \n",
    "    if i >= len(l):\n",
    "        while j < len(r):\n",
    "            re.append(r[j])\n",
    "            j+=1\n",
    "    elif j >= len(r):\n",
    "        while i < len(l):\n",
    "            re.append(l[i])\n",
    "            i+=1\n",
    "\n",
    "    return re\n",
    " \n",
    "\n",
    "def mergesort(x):\n",
    "    if len(x) <= 1:\n",
    "        return x\n",
    "\n",
    "    div = len(x)//2\n",
    "    left = mergesort(x[:div])\n",
    "    right = mergesort(x[div:])\n",
    "\n",
    "    x = mergeLR(left,right)\n",
    "    return x\n",
    "\n",
    "sortlist=mergesort(xlist)\n",
    "\n",
    "for i in sortlist:\n",
    "    print(i)"
   ]
  },
  {
   "cell_type": "code",
   "execution_count": 3,
   "metadata": {},
   "outputs": [],
   "source": [
    "import sys\n",
    "\n",
    "N=int(sys.stdin.readline().strip()) # 변경부분\n",
    "n_list=[]\n",
    "for i in range(0,N):\n",
    "    a=int(sys.stdin.readline().strip()) #변경부분\n",
    "    n_list.append(a)\n",
    "a=sorted(n_list)\n",
    "for i in a:\n",
    "    print(i)\n",
    "\n",
    "\n",
    "# for 문 안에 sys.stdin.readline() 사용시 input()보다 빨라 시간단축가능."
   ]
  },
  {
   "cell_type": "code",
   "execution_count": 10,
   "metadata": {},
   "outputs": [
    {
     "name": "stdout",
     "output_type": "stream",
     "text": [
      "[1, 2, 3, 4, 5, 6, 7, 8]\n"
     ]
    }
   ],
   "source": [
    "def mergeLR(l,r):\n",
    "    re = []\n",
    "    i,j = 0,0\n",
    "\n",
    "    while i < len(l) and j < len(r):\n",
    "        if l[i] < r[j]:\n",
    "            re.append(l[i])\n",
    "            i+=1\n",
    "        else:\n",
    "            re.append(r[j])\n",
    "            j+=1\n",
    "    \n",
    "    if i >= len(l):\n",
    "        while j < len(r):\n",
    "            re.append(r[j])\n",
    "            j+=1\n",
    "    elif j >= len(r):\n",
    "        while i < len(l):\n",
    "            re.append(l[i])\n",
    "            i+=1\n",
    "\n",
    "    return re\n",
    " \n",
    "\n",
    "\n",
    "def mergesort(x):\n",
    "    if len(x) <= 1:\n",
    "        return x\n",
    "\n",
    "    div = len(x)//2\n",
    "    left = mergesort(x[:div])\n",
    "    right = mergesort(x[div:])\n",
    "\n",
    "    x = mergeLR(left,right)\n",
    "    return x\n",
    "\n",
    "\n",
    "print(mergesort([7, 6, 2, 3, 8, 5, 4, 1]))"
   ]
  }
 ],
 "metadata": {
  "kernelspec": {
   "display_name": "Python 3",
   "language": "python",
   "name": "python3"
  },
  "language_info": {
   "codemirror_mode": {
    "name": "ipython",
    "version": 3
   },
   "file_extension": ".py",
   "mimetype": "text/x-python",
   "name": "python",
   "nbconvert_exporter": "python",
   "pygments_lexer": "ipython3",
   "version": "3.10.0"
  },
  "orig_nbformat": 4,
  "vscode": {
   "interpreter": {
    "hash": "26de051ba29f2982a8de78e945f0abaf191376122a1563185a90213a26c5da77"
   }
  }
 },
 "nbformat": 4,
 "nbformat_minor": 2
}
