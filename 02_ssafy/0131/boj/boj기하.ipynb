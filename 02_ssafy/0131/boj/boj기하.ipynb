{
 "cells": [
  {
   "cell_type": "code",
   "execution_count": 10,
   "metadata": {},
   "outputs": [
    {
     "name": "stdout",
     "output_type": "stream",
     "text": [
      "47600\n"
     ]
    }
   ],
   "source": [
    "# 2477 참외밭 try1\n",
    "# import sys\n",
    "# input = sys.stdin.readline\n",
    "\n",
    "k = int(input().strip())\n",
    "\n",
    "length_list = [0] * 5\n",
    "\n",
    "directrion_check = [False] * 5  # 동=1, 서=2, 남=3, 북=4\n",
    "first_second_check = False  # 첫번쨰로 구부러진 지형이 나오는것 확인\n",
    "d_list = []\n",
    "\n",
    "for _ in range(6):  # 6각형이므로 변이 6개\n",
    "\n",
    "    d, l = map(int, input().strip().split())\n",
    "    d_list.append(d)\n",
    "\n",
    "    if directrion_check[d]:   # 이미 한번 동일한 방향이 나왔었다면\n",
    "\n",
    "        if d_list[-3] == d:  # 중앙출발이 아닐경우\n",
    "\n",
    "            if first_second_check :  # 2개번 동이 방향 나온 2개의 변중에서 두번째로 출몰한 변\n",
    "                small_square_x = length_list[d]  \n",
    "            else:   # 2개번 동이 방향 나온 2개의 변중에서 첫번쨰로 출몰한 변\n",
    "                first_second_check = True\n",
    "                small_square_y = l\n",
    "\n",
    "        else:   # 중앙출발일 경우\n",
    "        \n",
    "            if first_second_check :  # 2개번 동이 방향 나온 2개의 변중에서 두번째로 출몰한 변\n",
    "                small_square_x = l\n",
    "            else:   # 2개번 동이 방향 나온 2개의 변중에서 첫번쨰로 출몰한 변\n",
    "                first_second_check = True\n",
    "                small_square_y = length_list[d]\n",
    "\n",
    "    else:\n",
    "        directrion_check[d] = True\n",
    "        length_list[d] = l\n",
    "\n",
    "big_square_x = max(length_list[1],length_list[2]) # 동,서 방향 가장 큰변 길이\n",
    "big_square_y = max(length_list[3],length_list[4]) # 남,북 방향 가장 큰변 길이\n",
    "\n",
    "size = big_square_x*big_square_y - small_square_x*small_square_y\n",
    "result = k * size\n",
    "print(result)\n"
   ]
  },
  {
   "cell_type": "code",
   "execution_count": 6,
   "metadata": {},
   "outputs": [
    {
     "name": "stdout",
     "output_type": "stream",
     "text": [
      "47600\n"
     ]
    }
   ],
   "source": [
    "# 2477 참외밭 try2\n",
    "import sys\n",
    "input = sys.stdin.readline\n",
    "\n",
    "k = int(input().strip())\n",
    "d_lst = []\n",
    "l_lst = []\n",
    "big_squares = []\n",
    "small_square = 1\n",
    "big_square = 1\n",
    "\n",
    "for _ in range(6) :\n",
    "\n",
    "    d, l = map(int, input().strip().split())\n",
    "\n",
    "    d_lst.append(d)\n",
    "    l_lst.append(l)\n",
    "\n",
    "for i in range(1,5):\n",
    "    if d_lst.count(i) == 1 :\n",
    "        big_squares.append(i)\n",
    "\n",
    "for big_line in big_squares:\n",
    "    small_square *= abs(l_lst[d_lst.index(big_line)-1] - l_lst[d_lst.index(big_line)+1 if d_lst.index(big_line) != 5 else d_lst.index(big_line)-5])\n",
    "    big_square *= l_lst[d_lst.index(big_line)]\n",
    "\n",
    "result = k * (big_square - small_square)\n",
    "print(result)"
   ]
  },
  {
   "cell_type": "code",
   "execution_count": 1,
   "metadata": {},
   "outputs": [
    {
     "name": "stdout",
     "output_type": "stream",
     "text": [
      "2\n",
      "1\n",
      "0\n"
     ]
    }
   ],
   "source": [
    "# 1002 터렛 try1\n",
    "import sys\n",
    "input = sys.stdin.readline\n",
    "\n",
    "tc = int(input().strip())\n",
    "\n",
    "for _ in range(tc):\n",
    "    x1, y1, r1, x2, y2, r2 = map(int, input().strip().split())\n",
    "    dist = ((x1-x2)**2 + (y1-y2)**2)**0.5  ## 두 터렛 사이의 거리\n",
    "\n",
    "    if x1 == x2 and y1 == y2 :   # 중심이 일치\n",
    "        if r1 == r2 :  ## 두 원이 일치할때\n",
    "            print(-1)\n",
    "\n",
    "        else :  ## 두원 중심이 같고 길이가 다를때\n",
    "            print(0)\n",
    "\n",
    "    else:  ## 중심이 다를때\n",
    "        if r1+r2 > dist:  ## 터렛 범위가 거리 \n",
    "            print(2)\n",
    "        elif r1+r2 == dist:  # 두 터렛사이거리\n",
    "            print(1)\n",
    "        else :\n",
    "            print(0)"
   ]
  }
 ],
 "metadata": {
  "kernelspec": {
   "display_name": "Python 3",
   "language": "python",
   "name": "python3"
  },
  "language_info": {
   "codemirror_mode": {
    "name": "ipython",
    "version": 3
   },
   "file_extension": ".py",
   "mimetype": "text/x-python",
   "name": "python",
   "nbconvert_exporter": "python",
   "pygments_lexer": "ipython3",
   "version": "3.10.0 (tags/v3.10.0:b494f59, Oct  4 2021, 19:00:18) [MSC v.1929 64 bit (AMD64)]"
  },
  "orig_nbformat": 4,
  "vscode": {
   "interpreter": {
    "hash": "26de051ba29f2982a8de78e945f0abaf191376122a1563185a90213a26c5da77"
   }
  }
 },
 "nbformat": 4,
 "nbformat_minor": 2
}
