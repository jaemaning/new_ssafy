{
 "cells": [
  {
   "cell_type": "code",
   "execution_count": null,
   "metadata": {},
   "outputs": [],
   "source": [
    "#2108 통계학\n",
    "\n",
    "import sys\n",
    "\n",
    "def roundUP(num):\n",
    "    if num - int(num) < 0.5:\n",
    "        return int(num)\n",
    "    else:\n",
    "        return int(num)+1\n",
    "\n",
    "n=int(sys.stdin.readline().strip())\n",
    "counts=[0 for _ in range(8001)]\n",
    "numbers=[]\n",
    "\n",
    "for i in range(n):\n",
    "    num=int(sys.stdin.readline().strip())\n",
    "    numbers.append(num)\n",
    "    counts[num+4000] += 1\n",
    "\n",
    "minV = min(numbers)\n",
    "maxV = max(numbers)\n",
    "\n",
    "\n",
    "sort_numbers=sorted(numbers)\n",
    "index_of_maxcounts=counts.index(max(counts))\n",
    "\n",
    "\n",
    "print(roundUP(sum(numbers)/n))\n",
    "print(sort_numbers[int(n/2)])\n",
    "print(counts.index(max(counts,index_of_maxcounts+1)))\n",
    "print(maxV-minV)\n",
    "\n"
   ]
  },
  {
   "cell_type": "code",
   "execution_count": 47,
   "metadata": {},
   "outputs": [
    {
     "name": "stdout",
     "output_type": "stream",
     "text": [
      "0\n",
      "0\n",
      "0\n",
      "1\n",
      "except\n"
     ]
    }
   ],
   "source": [
    "\n",
    "import sys\n",
    "\n",
    "def roundUP(num):\n",
    "    if abs(num - int(num)) < 0.5:\n",
    "        return int(num)\n",
    "    else:\n",
    "        if int(num) < 0:\n",
    "            return int(num) - 1\n",
    "        else:\n",
    "            return int(num) + 1\n",
    "\n",
    "n=int(sys.stdin.readline().strip())\n",
    "counts=[0 for _ in range(8001)]\n",
    "numbers=[]\n",
    "\n",
    "for i in range(n):\n",
    "    num=int(sys.stdin.readline().strip())\n",
    "    numbers.append(num)\n",
    "    counts[num+4000] += 1\n",
    "\n",
    "minV = min(numbers)\n",
    "maxV = max(numbers)\n",
    "\n",
    "\n",
    "sort_numbers=sorted(numbers)\n",
    "index_of_maxcounts=counts.index(max(counts))\n",
    "\n",
    "try :\n",
    "    second_index_of_maxcounts=counts.index(max(counts),index_of_maxcounts+1)\n",
    "    print(roundUP(sum(numbers)/n))\n",
    "    print(sort_numbers[int(n/2)])\n",
    "    print(second_index_of_maxcounts-4000)\n",
    "    print(maxV-minV)\n",
    "\n",
    "except:\n",
    "    print(roundUP(sum(numbers)/n))\n",
    "    print(sort_numbers[int(n/2)])\n",
    "    print(index_of_maxcounts-4000)\n",
    "    print(maxV-minV)\n",
    "\n",
    "\n"
   ]
  },
  {
   "cell_type": "code",
   "execution_count": null,
   "metadata": {},
   "outputs": [],
   "source": [
    "counts.index(max(counts),2)"
   ]
  },
  {
   "cell_type": "code",
   "execution_count": 44,
   "metadata": {},
   "outputs": [
    {
     "data": {
      "text/plain": [
       "0.8"
      ]
     },
     "execution_count": 44,
     "metadata": {},
     "output_type": "execute_result"
    }
   ],
   "source": [
    "abs(-0.8)"
   ]
  }
 ],
 "metadata": {
  "kernelspec": {
   "display_name": "Python 3",
   "language": "python",
   "name": "python3"
  },
  "language_info": {
   "codemirror_mode": {
    "name": "ipython",
    "version": 3
   },
   "file_extension": ".py",
   "mimetype": "text/x-python",
   "name": "python",
   "nbconvert_exporter": "python",
   "pygments_lexer": "ipython3",
   "version": "3.10.0 (tags/v3.10.0:b494f59, Oct  4 2021, 19:00:18) [MSC v.1929 64 bit (AMD64)]"
  },
  "orig_nbformat": 4,
  "vscode": {
   "interpreter": {
    "hash": "26de051ba29f2982a8de78e945f0abaf191376122a1563185a90213a26c5da77"
   }
  }
 },
 "nbformat": 4,
 "nbformat_minor": 2
}
