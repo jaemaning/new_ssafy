{
 "cells": [
  {
   "cell_type": "code",
   "execution_count": 13,
   "metadata": {},
   "outputs": [
    {
     "name": "stdout",
     "output_type": "stream",
     "text": [
      "3 5\n",
      "5 5\n",
      "5 11\n"
     ]
    }
   ],
   "source": [
    "#9020 골드바흐의 추측 (시간초과)\n",
    "import math\n",
    "\n",
    "tc = int(input())\n",
    "\n",
    "checklist = [True for _ in range(10001)]\n",
    "checklist[0],checklist[1] = False , False\n",
    "primenumbers = []\n",
    "\n",
    "for i in range(2,101):\n",
    "    if checklist[i]:\n",
    "        j=2\n",
    "        while i*j <= 10000 :\n",
    "            checklist[i*j] = False\n",
    "            j+=1\n",
    "\n",
    "for i in range(len(checklist)):\n",
    "    if checklist[i]:\n",
    "        primenumbers.append(i)\n",
    "\n",
    "for i in range(tc):\n",
    "    n = int(input())\n",
    "    results = []\n",
    "\n",
    "    for j in range(2,int(n/2)+1):\n",
    "        if j in primenumbers and n-j in primenumbers:\n",
    "            results.append([j,n-j])\n",
    "\n",
    "    print(results[-1][0],results[-1][1])\n",
    "\n"
   ]
  },
  {
   "cell_type": "code",
   "execution_count": 15,
   "metadata": {},
   "outputs": [
    {
     "name": "stdout",
     "output_type": "stream",
     "text": [
      "3 5\n",
      "5 5\n",
      "5 11\n"
     ]
    }
   ],
   "source": [
    "#9020 골드바흐의 추측 (pass)\n",
    "import math\n",
    "\n",
    "tc = int(input())\n",
    "\n",
    "checklist = [True for _ in range(10001)]\n",
    "checklist[0],checklist[1] = False , False\n",
    "\n",
    "for i in range(2,101):\n",
    "    if checklist[i]:\n",
    "        j=2\n",
    "        while i*j <= 10000 :\n",
    "            checklist[i*j] = False\n",
    "            j+=1\n",
    "\n",
    "for i in range(tc):\n",
    "    n = int(input())\n",
    "    results = []\n",
    "\n",
    "    for j in range(2,int(n/2)+1):\n",
    "        if checklist[j] == True and checklist[n-j] == True:\n",
    "            results.append([j,n-j])\n",
    "\n",
    "    print(results[-1][0],results[-1][1])\n"
   ]
  }
 ],
 "metadata": {
  "kernelspec": {
   "display_name": "Python 3",
   "language": "python",
   "name": "python3"
  },
  "language_info": {
   "codemirror_mode": {
    "name": "ipython",
    "version": 3
   },
   "file_extension": ".py",
   "mimetype": "text/x-python",
   "name": "python",
   "nbconvert_exporter": "python",
   "pygments_lexer": "ipython3",
   "version": "3.10.0 (tags/v3.10.0:b494f59, Oct  4 2021, 19:00:18) [MSC v.1929 64 bit (AMD64)]"
  },
  "orig_nbformat": 4,
  "vscode": {
   "interpreter": {
    "hash": "26de051ba29f2982a8de78e945f0abaf191376122a1563185a90213a26c5da77"
   }
  }
 },
 "nbformat": 4,
 "nbformat_minor": 2
}
