{
 "cells": [
  {
   "cell_type": "code",
   "execution_count": 3,
   "metadata": {},
   "outputs": [
    {
     "name": "stdout",
     "output_type": "stream",
     "text": [
      "90\n",
      "5 7\n"
     ]
    }
   ],
   "source": [
    "# 2566 최댓값\n",
    "box = []\n",
    "maxbox=[]\n",
    "for i in range(9):\n",
    "    line = list(map(int,input().split()))\n",
    "    box.append(line)\n",
    "    maxbox.append(max(line))\n",
    "\n",
    "x=maxbox.index(max(maxbox))\n",
    "\n",
    "print(max(maxbox))\n",
    "print(x+1,box[x].index(max(maxbox))+1)"
   ]
  }
 ],
 "metadata": {
  "kernelspec": {
   "display_name": "Python 3",
   "language": "python",
   "name": "python3"
  },
  "language_info": {
   "codemirror_mode": {
    "name": "ipython",
    "version": 3
   },
   "file_extension": ".py",
   "mimetype": "text/x-python",
   "name": "python",
   "nbconvert_exporter": "python",
   "pygments_lexer": "ipython3",
   "version": "3.10.0"
  },
  "orig_nbformat": 4,
  "vscode": {
   "interpreter": {
    "hash": "26de051ba29f2982a8de78e945f0abaf191376122a1563185a90213a26c5da77"
   }
  }
 },
 "nbformat": 4,
 "nbformat_minor": 2
}
