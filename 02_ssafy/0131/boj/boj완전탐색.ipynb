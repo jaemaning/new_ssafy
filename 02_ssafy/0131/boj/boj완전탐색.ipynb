{
 "cells": [
  {
   "cell_type": "code",
   "execution_count": 16,
   "metadata": {},
   "outputs": [
    {
     "name": "stdout",
     "output_type": "stream",
     "text": [
      "1\n",
      "0\n",
      "0\n",
      "2\n",
      "4\n",
      "3\n"
     ]
    }
   ],
   "source": [
    "import sys\n",
    "input = sys.stdin.readline\n",
    "sys.setrecursionlimit(10**6)\n",
    "\n",
    "n, m, r = map(int, input().strip().split())\n",
    "graphs = [[] for _ in range(n+1)]\n",
    "check_list = [False] * (n+1)\n",
    "result = [0] * (n+1)\n",
    "count = 1\n",
    "\n",
    "for _ in range(m):\n",
    "    start, end = map(int, input().strip().split())\n",
    "    graphs[start].append(end)\n",
    "    graphs[end].append(start)\n",
    "\n",
    "for i in range(1,n+1):\n",
    "    graphs[i].sort()\n",
    "\n",
    "\n",
    "def dfs(v) :\n",
    "    global count\n",
    "    result[v] = count\n",
    "    for i in graphs[v]:\n",
    "        if result[i] == 0:\n",
    "            count += 1\n",
    "            dfs(i)\n",
    "\n",
    "dfs(r)\n",
    "\n",
    "for i in result[1:]:\n",
    "    print(i)"
   ]
  }
 ],
 "metadata": {
  "kernelspec": {
   "display_name": "Python 3",
   "language": "python",
   "name": "python3"
  },
  "language_info": {
   "codemirror_mode": {
    "name": "ipython",
    "version": 3
   },
   "file_extension": ".py",
   "mimetype": "text/x-python",
   "name": "python",
   "nbconvert_exporter": "python",
   "pygments_lexer": "ipython3",
   "version": "3.10.0 (tags/v3.10.0:b494f59, Oct  4 2021, 19:00:18) [MSC v.1929 64 bit (AMD64)]"
  },
  "orig_nbformat": 4,
  "vscode": {
   "interpreter": {
    "hash": "26de051ba29f2982a8de78e945f0abaf191376122a1563185a90213a26c5da77"
   }
  }
 },
 "nbformat": 4,
 "nbformat_minor": 2
}
