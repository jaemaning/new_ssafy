{
 "cells": [
  {
   "cell_type": "code",
   "execution_count": 45,
   "metadata": {},
   "outputs": [
    {
     "name": "stdout",
     "output_type": "stream",
     "text": [
      "1\n",
      "4\n",
      "3\n",
      "1\n",
      "21\n",
      "135\n",
      "1033\n",
      "8392\n"
     ]
    }
   ],
   "source": [
    "# 4948 베르트랑 공준\n",
    "import math\n",
    "\n",
    "checklist = [True for _ in range(123456*2+1)]\n",
    "checklist[0] = False\n",
    "checklist[1] = False\n",
    "\n",
    "for i in range(2,int(math.sqrt(123456*2+1))+1):\n",
    "    if checklist[i] == True :\n",
    "        j=2\n",
    "        while i*j <= 123456*2:\n",
    "            checklist[i*j] = False\n",
    "            j+=1\n",
    "\n",
    "while True :\n",
    "\n",
    "    n = int(input())\n",
    "\n",
    "    if n == 0:\n",
    "        break\n",
    "\n",
    "    cnt=0\n",
    "    for i in range(n+1,2*n+1):\n",
    "        if checklist[i]:\n",
    "            cnt+=1            \n",
    "\n",
    "    print(cnt)\n"
   ]
  }
 ],
 "metadata": {
  "kernelspec": {
   "display_name": "Python 3",
   "language": "python",
   "name": "python3"
  },
  "language_info": {
   "codemirror_mode": {
    "name": "ipython",
    "version": 3
   },
   "file_extension": ".py",
   "mimetype": "text/x-python",
   "name": "python",
   "nbconvert_exporter": "python",
   "pygments_lexer": "ipython3",
   "version": "3.10.0 (tags/v3.10.0:b494f59, Oct  4 2021, 19:00:18) [MSC v.1929 64 bit (AMD64)]"
  },
  "orig_nbformat": 4,
  "vscode": {
   "interpreter": {
    "hash": "26de051ba29f2982a8de78e945f0abaf191376122a1563185a90213a26c5da77"
   }
  }
 },
 "nbformat": 4,
 "nbformat_minor": 2
}
