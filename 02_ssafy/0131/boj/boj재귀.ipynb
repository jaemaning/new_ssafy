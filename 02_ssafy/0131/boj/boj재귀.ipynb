{
 "cells": [
  {
   "cell_type": "code",
   "execution_count": 12,
   "metadata": {},
   "outputs": [
    {
     "data": {
      "text/plain": [
       "55"
      ]
     },
     "execution_count": 12,
     "metadata": {},
     "output_type": "execute_result"
    }
   ],
   "source": [
    "def fibo(n):\n",
    "    result=0\n",
    "    \n",
    "    if n == 0 :\n",
    "        return 0\n",
    "    elif n == 1 :\n",
    "        return 1\n",
    "    else:\n",
    "        result += fibo(n-2) + fibo(n-1)\n",
    "\n",
    "    return result\n",
    "\n",
    "\n",
    "fibo(10)\n",
    "    "
   ]
  },
  {
   "cell_type": "code",
   "execution_count": 21,
   "metadata": {},
   "outputs": [
    {
     "name": "stdout",
     "output_type": "stream",
     "text": [
      "1 2\n",
      "1 3\n",
      "1 3\n",
      "0 2\n",
      "0 1\n"
     ]
    }
   ],
   "source": [
    "def recursion(s, l, r, cnt) :\n",
    "\n",
    "    if l >= r :\n",
    "        return 1, cnt\n",
    "    elif s[l] != s[r] :\n",
    "        return 0, cnt\n",
    "    else :\n",
    "        cnt+=1\n",
    "        return recursion(s, l+1, r-1, cnt)\n",
    "\n",
    "\n",
    "def isPalindrome(s):\n",
    "    return recursion(s, 0, len(s)-1, 1)\n",
    "\n",
    "n = int(input())\n",
    "\n",
    "for i in range(n):\n",
    "    s = input()\n",
    "    print(isPalindrome(s)[0],isPalindrome(s)[1])"
   ]
  },
  {
   "cell_type": "code",
   "execution_count": 33,
   "metadata": {},
   "outputs": [
    {
     "name": "stdout",
     "output_type": "stream",
     "text": [
      "[1, 2, 3, 4, 5]\n",
      "[1, 4, 1, 4, 5, 2, 3, 1, 2, 3, 4, 5]\n",
      "3\n"
     ]
    }
   ],
   "source": [
    "# 24060 알고리즘 수업 - 병합 정렬 1\n",
    "\n",
    "def merge_sort(nlist):\n",
    "    if len(nlist) == 1:\n",
    "        return nlist\n",
    "\n",
    "    mid = (len(nlist) + 1) // 2\n",
    "\n",
    "    left = merge_sort(nlist[:mid])\n",
    "    right = merge_sort(nlist[mid:])\n",
    "\n",
    "    i,j = 0,0\n",
    "    mlist = []\n",
    "\n",
    "    while i < len(left) and j < len(right) :\n",
    "        if left[i] > right[j]:\n",
    "            mlist.append(right[j])\n",
    "            answer.append(right[j])\n",
    "            j+=1\n",
    "        else :\n",
    "            mlist.append(left[i])\n",
    "            answer.append(left[i])\n",
    "            i+=1\n",
    "    \n",
    "    while i < len(left) :\n",
    "        mlist.append(left[i])\n",
    "        answer.append(left[i])\n",
    "        i+=1\n",
    "\n",
    "    while j < len(right) :\n",
    "        mlist.append(right[j])\n",
    "        answer.append(right[j])\n",
    "        j+=1        \n",
    "\n",
    "    return mlist\n",
    "\n",
    "\n",
    "n,k = map(int,input().split())\n",
    "A = list(map(int,input().split()))\n",
    "answer = []\n",
    "print(merge_sort(A))\n",
    "print(answer)\n",
    "if len(answer) >= k :\n",
    "    print(answer[k-1])\n",
    "else :\n",
    "    print(-1)\n",
    "\n"
   ]
  }
 ],
 "metadata": {
  "kernelspec": {
   "display_name": "Python 3",
   "language": "python",
   "name": "python3"
  },
  "language_info": {
   "codemirror_mode": {
    "name": "ipython",
    "version": 3
   },
   "file_extension": ".py",
   "mimetype": "text/x-python",
   "name": "python",
   "nbconvert_exporter": "python",
   "pygments_lexer": "ipython3",
   "version": "3.10.0 (tags/v3.10.0:b494f59, Oct  4 2021, 19:00:18) [MSC v.1929 64 bit (AMD64)]"
  },
  "orig_nbformat": 4,
  "vscode": {
   "interpreter": {
    "hash": "26de051ba29f2982a8de78e945f0abaf191376122a1563185a90213a26c5da77"
   }
  }
 },
 "nbformat": 4,
 "nbformat_minor": 2
}
