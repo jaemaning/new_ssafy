{
 "cells": [
  {
   "cell_type": "code",
   "execution_count": 5,
   "metadata": {},
   "outputs": [
    {
     "name": "stdout",
     "output_type": "stream",
     "text": [
      "1 0 0 1 1 0 0 1 "
     ]
    }
   ],
   "source": [
    "# 10815 숫자카드\n",
    "\n",
    "n = int(input())\n",
    "nlist = sorted(list(map(int,input().split())))\n",
    "m = int(input())\n",
    "mlist = list(map(int,input().split()))\n",
    "\n",
    "def findcard(card,start,end):\n",
    "\n",
    "    mid = (start + end) // 2\n",
    "\n",
    "    if nlist[start] == card or nlist[end-1] == card:\n",
    "        return 1\n",
    "\n",
    "    while start != mid and end != mid :\n",
    "\n",
    "        if nlist[mid] == card:\n",
    "            return 1\n",
    "\n",
    "        elif nlist[mid] < card :\n",
    "            start = mid\n",
    "\n",
    "        else :\n",
    "            end = mid\n",
    "\n",
    "        mid = (start + end) // 2\n",
    "\n",
    "    return 0\n",
    "\n",
    "for i in mlist:\n",
    "    print(findcard(i,0,len(nlist)),end=\" \")\n"
   ]
  },
  {
   "cell_type": "code",
   "execution_count": 13,
   "metadata": {},
   "outputs": [
    {
     "name": "stdout",
     "output_type": "stream",
     "text": [
      "4\n"
     ]
    }
   ],
   "source": [
    "# 14425 문자열 집합\n",
    "import sys\n",
    "\n",
    "n,m = map(int,sys.stdin.readline().split())\n",
    "\n",
    "nlist = []\n",
    "mlist = []\n",
    "\n",
    "for _ in range(n):\n",
    "    nlist.append(sys.stdin.readline().strip())\n",
    "\n",
    "nlist.sort() \n",
    "\n",
    "for _ in range(m):\n",
    "    word = sys.stdin.readline().strip()\n",
    "\n",
    "    if word in nlist:\n",
    "        mlist.append(word)\n",
    "\n",
    "print(len(mlist))"
   ]
  },
  {
   "cell_type": "code",
   "execution_count": null,
   "metadata": {},
   "outputs": [],
   "source": [
    "\n",
    "\n",
    "import sys\n",
    "\n",
    "n,m = map(int,sys.stdin.readline().strip().split())\n",
    "\n",
    "poket_list = []\n",
    "poket_dict = {}\n",
    "\n",
    "\n",
    "for idx in range(n):\n",
    "    name = sys.stdin.readline().strip()\n",
    "    poket_list.append(name)\n",
    "    poket_dict[name] = idx+1\n",
    "\n",
    "for _ in range(m):\n",
    "    try:\n",
    "        find_num = sys.stdin.readline().strip()\n",
    "        find_num = int(find_num)\n",
    "        print(poket_list[find_num-1])\n",
    "    except:\n",
    "        poketname = find_num\n",
    "        print(poket_dict[poketname])\n"
   ]
  },
  {
   "cell_type": "code",
   "execution_count": 8,
   "metadata": {},
   "outputs": [
    {
     "name": "stdout",
     "output_type": "stream",
     "text": [
      "Ivysaur\n",
      "2\n",
      "3\n"
     ]
    }
   ],
   "source": [
    "# 1620 나는야 포켓몬 마스터 이다솜\n",
    "\n",
    "import sys\n",
    "\n",
    "n,m = map(int,input().split())\n",
    "\n",
    "poket_list = []\n",
    "poket_dict = {}\n",
    "\n",
    "\n",
    "for idx in range(n):\n",
    "    name = input()\n",
    "    poket_list.append(name)\n",
    "    poket_dict[name] = idx+1\n",
    "\n",
    "for _ in range(m):\n",
    "    try:\n",
    "        find_num = input()\n",
    "        find_num = int(find_num)\n",
    "        print(poket_list[find_num-1])\n",
    "    except:\n",
    "        poketname = find_num\n",
    "        print(poket_dict[poketname])\n"
   ]
  },
  {
   "cell_type": "code",
   "execution_count": null,
   "metadata": {},
   "outputs": [],
   "source": [
    "import sys\n",
    "\n",
    "def Sol():\n",
    "    input = sys.stdin.readline\n",
    "\n",
    "    N, M = map(int, input().split())\n",
    "    S = set()\n",
    "    cnt = 0\n",
    "\n",
    "    for _ in range(N):\n",
    "        S.add(input().strip())\n",
    "\n",
    "    for _ in range(M):\n",
    "        if S.__contains__(input().strip()): ## ?\n",
    "            cnt += 1\n",
    "    print(cnt)\n",
    "\n",
    "if __name__ == \"__main__\":\n",
    "    Sol()"
   ]
  },
  {
   "cell_type": "code",
   "execution_count": null,
   "metadata": {},
   "outputs": [],
   "source": [
    "# 나는야 포켓몬 마스터 이다솜\n",
    "\n",
    "import sys\n",
    "input = sys.stdin.readline\n",
    "n, m = map(int, input().split())\n",
    "# index, name별로 별도 딕셔너리 생성\n",
    "dict = {}\n",
    "for i in range(1, n + 1):\n",
    "    poketmon = input().rstrip()\n",
    "    dict[i] = poketmon\n",
    "    dict[poketmon] = i\n",
    "for _ in range(m):\n",
    "    check = input().rstrip()\n",
    "    # 숫자일 경우\n",
    "    # 인덱스로부터 이름을 추출\n",
    "    if check.isdigit():\n",
    "        print(dict[int(check)])\n",
    "    # 이름일 경우\n",
    "    # 이름에서 인덱스 추출\n",
    "    else:\n",
    "        print(dict[check])"
   ]
  },
  {
   "cell_type": "code",
   "execution_count": 13,
   "metadata": {},
   "outputs": [
    {
     "name": "stdout",
     "output_type": "stream",
     "text": [
      "3 0 0 1 2 0 0 2 "
     ]
    }
   ],
   "source": [
    "# 10816 숫자카드 2\n",
    "import sys\n",
    "\n",
    "checklist = [0] * 20000001\n",
    "input = sys.stdin.readline\n",
    "\n",
    "n = int(input().strip())\n",
    "\n",
    "\n",
    "def check_cnt(x):\n",
    "    x = int(x)\n",
    "    checklist[x] += 1\n",
    "\n",
    "\n",
    "nlist = list(map(int, input().strip().split()))\n",
    "\n",
    "for i in nlist:\n",
    "    check_cnt(i)\n",
    "\n",
    "m = int(input().strip())\n",
    "\n",
    "mlist = list(map(int, input().strip().split()))\n",
    "\n",
    "for i in mlist:\n",
    "    print(checklist[i], end=\" \")\n"
   ]
  },
  {
   "cell_type": "code",
   "execution_count": 15,
   "metadata": {},
   "outputs": [
    {
     "name": "stdout",
     "output_type": "stream",
     "text": [
      "2\n",
      "baesangwook\n",
      "ohhenrie\n"
     ]
    }
   ],
   "source": [
    "# 1764 듣보잡\n",
    "import sys\n",
    "input = sys.stdin.readline\n",
    "\n",
    "n, m = map(int, input().strip().split())\n",
    "\n",
    "noheard_list = set()\n",
    "nosee_list = set()\n",
    "\n",
    "for _ in range(n):\n",
    "    noheard_name = input().strip()\n",
    "    noheard_list.add(noheard_name)\n",
    "\n",
    "\n",
    "for _ in range(m):\n",
    "    nosee_name = input().strip()\n",
    "    nosee_list.add(nosee_name)\n",
    "\n",
    "noheardsee_list = noheard_list & nosee_list\n",
    "\n",
    "result = sorted(list(noheardsee_list))\n",
    "\n",
    "print(len(result))\n",
    "for name in result:\n",
    "    print(name)"
   ]
  },
  {
   "cell_type": "code",
   "execution_count": 16,
   "metadata": {},
   "outputs": [
    {
     "name": "stdout",
     "output_type": "stream",
     "text": [
      "4\n"
     ]
    }
   ],
   "source": [
    "#1269 대칭차집합\n",
    "import sys\n",
    "input = sys.stdin.readline\n",
    "\n",
    "n, m = map(int, input().strip().split())\n",
    "\n",
    "Aset = set(map(int, input().strip().split()))\n",
    "Bset = set(map(int, input().strip().split()))\n",
    "\n",
    "A_Bset = Aset - Bset\n",
    "B_Aset = Bset - Aset\n",
    "\n",
    "result = A_Bset | B_Aset\n",
    "\n",
    "print(len(list(result)))\n"
   ]
  },
  {
   "cell_type": "code",
   "execution_count": 27,
   "metadata": {},
   "outputs": [
    {
     "name": "stdout",
     "output_type": "stream",
     "text": [
      "12\n"
     ]
    }
   ],
   "source": [
    "# 11478 서로 다른 부분 문자열의 개수\n",
    "import sys\n",
    "sys.setrecursionlimit(10**5)\n",
    "input = sys.stdin.readline\n",
    "\n",
    "word = input().strip()\n",
    "length = len(word)+1\n",
    "word_list = set()\n",
    "\n",
    "def comb(n):\n",
    "    if n == 0 :\n",
    "        return\n",
    "\n",
    "    for i in range(n):\n",
    "        word_list.add(word[i:i+(length-n)])\n",
    "\n",
    "    comb(n-1)\n",
    "\n",
    "comb(length-1)\n",
    "\n",
    "print(len(list(word_list)))"
   ]
  },
  {
   "cell_type": "code",
   "execution_count": 21,
   "metadata": {},
   "outputs": [
    {
     "data": {
      "text/plain": [
       "'f'"
      ]
     },
     "execution_count": 21,
     "metadata": {},
     "output_type": "execute_result"
    }
   ],
   "source": [
    "# 11723 집합\n",
    "import sys\n",
    "input = sys.stdin.readline\n",
    "\n",
    "\n",
    "number = int(input().strip())\n",
    "S = set()\n",
    "\n",
    "for i in range(number):\n",
    "\n",
    "    n, *m = input().strip().split()\n",
    "\n",
    "    for checknum in m:\n",
    "        checknum = int(checknum)\n",
    "    \n",
    "    ## add\n",
    "    if n == \"add\":\n",
    "        S.add(checknum)\n",
    "\n",
    "    ## remove\n",
    "    if n == \"remove\" and checknum in S:\n",
    "        S.remove(checknum)\n",
    "    \n",
    "    ## check\n",
    "    if n == \"check\":\n",
    "        if checknum in S:\n",
    "            print(1)\n",
    "        else:\n",
    "            print(0)\n",
    "\n",
    "    ## toggle\n",
    "    if n == \"toggle\" :   \n",
    "        if checknum in S:\n",
    "            S.remove(checknum)\n",
    "        else:\n",
    "            S.add(checknum)\n",
    "\n",
    "    ## all\n",
    "    if n == \"all\":\n",
    "        S = set([i for i in range(1,21)])\n",
    "\n",
    "    ## empty\n",
    "    if n == \"empty\":\n",
    "        S = set()\n",
    "\n"
   ]
  }
 ],
 "metadata": {
  "kernelspec": {
   "display_name": "Python 3",
   "language": "python",
   "name": "python3"
  },
  "language_info": {
   "codemirror_mode": {
    "name": "ipython",
    "version": 3
   },
   "file_extension": ".py",
   "mimetype": "text/x-python",
   "name": "python",
   "nbconvert_exporter": "python",
   "pygments_lexer": "ipython3",
   "version": "3.10.0"
  },
  "orig_nbformat": 4,
  "vscode": {
   "interpreter": {
    "hash": "26de051ba29f2982a8de78e945f0abaf191376122a1563185a90213a26c5da77"
   }
  }
 },
 "nbformat": 4,
 "nbformat_minor": 2
}
