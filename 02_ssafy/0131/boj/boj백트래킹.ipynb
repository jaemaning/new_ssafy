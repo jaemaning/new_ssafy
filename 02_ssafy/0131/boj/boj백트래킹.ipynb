{
 "cells": [
  {
   "cell_type": "code",
   "execution_count": 7,
   "metadata": {},
   "outputs": [
    {
     "name": "stdout",
     "output_type": "stream",
     "text": [
      "1 2 3 4 \n",
      "1 2 4 3 \n",
      "1 3 2 4 \n",
      "1 3 4 2 \n",
      "1 4 2 3 \n",
      "1 4 3 2 \n",
      "2 1 3 4 \n",
      "2 1 4 3 \n",
      "2 3 1 4 \n",
      "2 3 4 1 \n",
      "2 4 1 3 \n",
      "2 4 3 1 \n",
      "3 1 2 4 \n",
      "3 1 4 2 \n",
      "3 2 1 4 \n",
      "3 2 4 1 \n",
      "3 4 1 2 \n",
      "3 4 2 1 \n",
      "4 1 2 3 \n",
      "4 1 3 2 \n",
      "4 2 1 3 \n",
      "4 2 3 1 \n",
      "4 3 1 2 \n",
      "4 3 2 1 \n"
     ]
    }
   ],
   "source": [
    "n, m = map(int,input().split())\n",
    "\n",
    "nlist = [i for i in range(1,n+1)]\n",
    "check_list = [False for _ in range(n)]\n",
    "result = []\n",
    "\n",
    "\n",
    "def perm(n,m):\n",
    "\n",
    "    answer = \"\"\n",
    "\n",
    "    if len(result) == m:\n",
    "        for i in result:\n",
    "            answer += f\"{i} \"\n",
    "        print(answer)\n",
    "        return \n",
    "\n",
    "    for i in range(n):\n",
    "        if not check_list[i]:\n",
    "            check_list[i] = True\n",
    "            result.append(nlist[i])\n",
    "            perm(n,m)\n",
    "            result.pop()\n",
    "            check_list[i] = False\n",
    "\n",
    "perm(n,m)"
   ]
  },
  {
   "cell_type": "code",
   "execution_count": 14,
   "metadata": {},
   "outputs": [
    {
     "name": "stdout",
     "output_type": "stream",
     "text": [
      "1 1 1\n",
      "1 1 2\n",
      "1 1 3\n",
      "1 2 2\n",
      "1 2 3\n",
      "1 3 3\n",
      "2 2 2\n",
      "2 2 3\n",
      "2 3 3\n",
      "3 3 3\n"
     ]
    }
   ],
   "source": [
    "n, m = map(int, input().split())\n",
    "\n",
    "nlist = [i for i in range(1, n+1)]\n",
    "result = []\n",
    "\n",
    "\n",
    "def dfs(start):\n",
    "    if len(result) == m:\n",
    "        print(\" \".join(map(str, result)))\n",
    "        return\n",
    "\n",
    "    for i in range(start, n+1):\n",
    "        result.append(i)\n",
    "        dfs(i)\n",
    "        result.pop()\n",
    "\n",
    "\n",
    "dfs(1)\n"
   ]
  },
  {
   "cell_type": "code",
   "execution_count": 17,
   "metadata": {},
   "outputs": [
    {
     "name": "stdout",
     "output_type": "stream",
     "text": [
      "[[0, 0, 0, 0], [0, 0, 0, 0], [0, 0, 0, 0], [0, 0, 0, 0]]\n"
     ]
    }
   ],
   "source": [
    "# 9663 N-queen\n",
    "\n",
    "n = int(input())\n",
    "\n",
    "def check(queen):\n",
    "\n",
    "\n"
   ]
  }
 ],
 "metadata": {
  "kernelspec": {
   "display_name": "Python 3",
   "language": "python",
   "name": "python3"
  },
  "language_info": {
   "codemirror_mode": {
    "name": "ipython",
    "version": 3
   },
   "file_extension": ".py",
   "mimetype": "text/x-python",
   "name": "python",
   "nbconvert_exporter": "python",
   "pygments_lexer": "ipython3",
   "version": "3.10.0"
  },
  "orig_nbformat": 4,
  "vscode": {
   "interpreter": {
    "hash": "26de051ba29f2982a8de78e945f0abaf191376122a1563185a90213a26c5da77"
   }
  }
 },
 "nbformat": 4,
 "nbformat_minor": 2
}
