{
 "cells": [
  {
   "cell_type": "code",
   "execution_count": 10,
   "metadata": {},
   "outputs": [
    {
     "name": "stdout",
     "output_type": "stream",
     "text": [
      "260\n"
     ]
    }
   ],
   "source": [
    "#2563 색종이 ( 3장이 겹칠떄를 생각안함. ) 내일 다시 풀이를 시작해보자\n",
    "\n",
    "test_case = int(input())\n",
    "square=[]\n",
    "cnt=0\n",
    "\n",
    "for i in range(test_case):\n",
    "    x,y = map(int,input().split())\n",
    "    square.append([x,y])\n",
    "\n",
    "def sol(n,cnt):\n",
    "    for i in range(1,test_case-n):\n",
    "        if abs(square[n][0] - square[n+i][0]) < 10 and abs(square[n][1] - square[n+i][1]) < 10 :\n",
    "            cnt += (10-abs(square[n][0] - square[n+i][0])) * (10-abs(square[n][1] - square[n+i][1]))\n",
    "\n",
    "    if n+1 < test_case-1:\n",
    "        sol(n+1,cnt)\n",
    "\n",
    "    return cnt\n",
    "\n",
    "print(100*test_case - sol(0,cnt))\n"
   ]
  }
 ],
 "metadata": {
  "kernelspec": {
   "display_name": "Python 3",
   "language": "python",
   "name": "python3"
  },
  "language_info": {
   "codemirror_mode": {
    "name": "ipython",
    "version": 3
   },
   "file_extension": ".py",
   "mimetype": "text/x-python",
   "name": "python",
   "nbconvert_exporter": "python",
   "pygments_lexer": "ipython3",
   "version": "3.10.0 (tags/v3.10.0:b494f59, Oct  4 2021, 19:00:18) [MSC v.1929 64 bit (AMD64)]"
  },
  "orig_nbformat": 4,
  "vscode": {
   "interpreter": {
    "hash": "26de051ba29f2982a8de78e945f0abaf191376122a1563185a90213a26c5da77"
   }
  }
 },
 "nbformat": 4,
 "nbformat_minor": 2
}
