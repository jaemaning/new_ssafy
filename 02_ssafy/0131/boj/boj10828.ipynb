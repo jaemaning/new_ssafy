{
 "cells": [
  {
   "cell_type": "code",
   "execution_count": 16,
   "metadata": {},
   "outputs": [
    {
     "name": "stdout",
     "output_type": "stream",
     "text": [
      "-1\n",
      "-1\n",
      "123\n",
      "123\n",
      "-1\n",
      "-1\n"
     ]
    }
   ],
   "source": [
    "import sys\n",
    "\n",
    "stack = []\n",
    "\n",
    "# num = \n",
    "\n",
    "num = int(sys.stdin.readline().strip())\n",
    "# num = int(input())\n",
    "\n",
    "for _ in range(num):\n",
    "\n",
    "    n,*m = sys.stdin.readline().strip().split()\n",
    "    # n,*m = input().split()\n",
    "\n",
    "    for number in m :\n",
    "        stack.append(number)\n",
    "\n",
    "    if n == \"top\" :\n",
    "        try:\n",
    "            print(stack[-1])\n",
    "        except:\n",
    "            print(-1)\n",
    "    \n",
    "    if n == \"size\" :\n",
    "        print(len(stack))\n",
    "\n",
    "    if n == \"empty\" :\n",
    "        if len(stack) == 0 :\n",
    "            print(1)\n",
    "        else :\n",
    "            print(0)\n",
    "\n",
    "    if n == \"pop\" :\n",
    "        try:\n",
    "            print(stack.pop())\n",
    "        except:\n",
    "            print(-1)\n"
   ]
  }
 ],
 "metadata": {
  "kernelspec": {
   "display_name": "Python 3",
   "language": "python",
   "name": "python3"
  },
  "language_info": {
   "codemirror_mode": {
    "name": "ipython",
    "version": 3
   },
   "file_extension": ".py",
   "mimetype": "text/x-python",
   "name": "python",
   "nbconvert_exporter": "python",
   "pygments_lexer": "ipython3",
   "version": "3.10.0 (tags/v3.10.0:b494f59, Oct  4 2021, 19:00:18) [MSC v.1929 64 bit (AMD64)]"
  },
  "orig_nbformat": 4,
  "vscode": {
   "interpreter": {
    "hash": "26de051ba29f2982a8de78e945f0abaf191376122a1563185a90213a26c5da77"
   }
  }
 },
 "nbformat": 4,
 "nbformat_minor": 2
}
