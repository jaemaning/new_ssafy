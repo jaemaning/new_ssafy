{
 "cells": [
  {
   "cell_type": "code",
   "execution_count": 7,
   "metadata": {},
   "outputs": [
    {
     "name": "stdout",
     "output_type": "stream",
     "text": [
      "3 "
     ]
    }
   ],
   "source": [
    "# 2981 검문 try 1  # 유클리드 호제법\n",
    "\n",
    "n = int(input())\n",
    "nlist = []\n",
    "result = []\n",
    "\n",
    "for _ in range(n):\n",
    "    number = int(input())\n",
    "    nlist.append(number)\n",
    "\n",
    "max_n = max(nlist)\n",
    "min_n = min(nlist)\n",
    "\n",
    "if min_n >= max_n**0.5 :\n",
    "    for i in range(2,int(max_n**0.5)+2):\n",
    "        pre = nlist[0] % i\n",
    "        for number_n in nlist:\n",
    "            if number_n % i != pre:\n",
    "                break\n",
    "        else:\n",
    "            result.append(i)\n",
    "\n",
    "else: \n",
    "    for i in range(2,min_n+1):\n",
    "        pre = nlist[0] % i\n",
    "        for number_n in nlist:\n",
    "            if number_n % i != pre:\n",
    "                break\n",
    "        else:\n",
    "            result.append(i)\n",
    "\n",
    "for re in result:\n",
    "    print(re, end=\" \")"
   ]
  },
  {
   "cell_type": "code",
   "execution_count": 17,
   "metadata": {},
   "outputs": [
    {
     "name": "stdout",
     "output_type": "stream",
     "text": [
      "2 3 5 6 10 15 "
     ]
    }
   ],
   "source": [
    "## 2981 검문 try 2\n",
    "\n",
    "n = int(input())\n",
    "nlist = []\n",
    "result = []\n",
    "\n",
    "for _ in range(n):\n",
    "    number = int(input())\n",
    "    nlist.append(number)\n",
    "\n",
    "max_n = max(nlist)\n",
    "min_n = min(nlist)\n",
    "\n",
    "if min_n > max_n**0.5 :\n",
    "\n",
    "    for i in range(2,int(max_n**0.5)+2):\n",
    "        pre = nlist[0] % i\n",
    "        for number_n in nlist:\n",
    "            if number_n % i != pre:\n",
    "                break\n",
    "        else:\n",
    "            result.append(i)\n",
    "\n",
    "    for i in range(min_n,max_n):\n",
    "        pre = nlist[0] % i\n",
    "        for number_n in nlist:\n",
    "            if number_n % i != pre:\n",
    "                break\n",
    "        else:\n",
    "            result.append(i)\n",
    "\n",
    "else :\n",
    "    \n",
    "    for i in range(2,int(max_n**0.5)+2):\n",
    "        pre = nlist[0] % i\n",
    "        for number_n in nlist:\n",
    "            if number_n % i != pre:\n",
    "                break\n",
    "        else:\n",
    "            result.append(i) \n",
    "\n",
    "for re in result:\n",
    "    print(re, end=\" \")\n",
    "\n"
   ]
  },
  {
   "cell_type": "code",
   "execution_count": 12,
   "metadata": {},
   "outputs": [
    {
     "name": "stdout",
     "output_type": "stream",
     "text": [
      "3 5 15 25 75\n"
     ]
    }
   ],
   "source": [
    "import math\n",
    "\n",
    "def lc(x, y):\n",
    "    r = x%y\n",
    "    if r == 0: return y\n",
    "    else: return lc(y, r)\n",
    "\n",
    "n = int(input())\n",
    "\n",
    "l = [int(input()) for i in range(n)]\n",
    "\n",
    "l.sort(); ll = l[0]; res = []\n",
    "\n",
    "for j in range(n):\n",
    "    l[j] -= ll\n",
    "\n",
    "lcv = lc(l[1], l[n-1])\n",
    "\n",
    "for k in range(2, lcv+1):\n",
    "    if math.isclose(lcv%k, 0): res.append(str(k))\n",
    "\n",
    "print(' '.join(res))"
   ]
  },
  {
   "cell_type": "code",
   "execution_count": 11,
   "metadata": {},
   "outputs": [
    {
     "name": "stdout",
     "output_type": "stream",
     "text": [
      "4\n"
     ]
    }
   ],
   "source": [
    "# 1676 팩토리얼 0의 개수\n",
    "\n",
    "result = 1\n",
    "cnt = 0\n",
    "\n",
    "n = int(input())\n",
    "\n",
    "for i in range(1,n+1):\n",
    "    result *= i\n",
    "\n",
    "for i in list(reversed(str(result))):\n",
    "    if i == \"0\" :\n",
    "        cnt += 1\n",
    "    else:\n",
    "        break\n",
    "\n",
    "print(cnt)\n",
    "\n"
   ]
  },
  {
   "cell_type": "code",
   "execution_count": 12,
   "metadata": {},
   "outputs": [],
   "source": [
    "# n 까지 파스칼 삼각형 만들기\n",
    "\n",
    "cache = [[0 for _ in range(200000000)] for _ in range(200000000)]\n",
    "\n",
    "for x in range(200000000):\n",
    "    for y in range(200000000):\n",
    "        if cache[x][y]:\n",
    "            pass\n",
    "        else:\n",
    "            if y == 0 or y == x :\n",
    "                cache[x][y] = 1\n",
    "            else :\n",
    "                cache[x][y] = cache[x-1][y-1] + cache[x-1][y]\n",
    "\n",
    "\n",
    "\n",
    "n, k = map(int,input().split())\n",
    "\n",
    "print(cache[n][k]%10007)"
   ]
  },
  {
   "cell_type": "code",
   "execution_count": 5,
   "metadata": {},
   "outputs": [],
   "source": [
    "n, m = map(int, input().split())\n",
    "result_n = 1\n",
    "result_m = 1\n",
    "cnt = 0\n",
    "\n",
    "if n-m > m:\n",
    "    for i in range(1,m+1):\n",
    "        result_m *= i\n",
    "    for j in range(n,n-m,-1):\n",
    "        result_n *= j\n",
    "\n",
    "else:\n",
    "    for i in range(1,n-m+1):\n",
    "        result_m *= i\n",
    "    for j in range(n,m,-1):\n",
    "        result_n *= j\n",
    "\n",
    "result = result_n // result_m\n",
    "\n",
    "for char in list(reversed(str(result))):\n",
    "    if char == \"0\":\n",
    "        cnt += 1\n",
    "    else :\n",
    "        break\n",
    "\n",
    "print(cnt)\n",
    "\n"
   ]
  },
  {
   "cell_type": "code",
   "execution_count": 18,
   "metadata": {},
   "outputs": [
    {
     "name": "stdout",
     "output_type": "stream",
     "text": [
      "5\n"
     ]
    }
   ],
   "source": [
    "n = int(input())\n",
    "cnt = 0\n",
    "\n",
    "while n != 1:\n",
    "    if n % 3 != 0 and (n-1) % 3 != 0:\n",
    "        if n % 2 == 1:\n",
    "            cnt += 1\n",
    "            n //= 2\n",
    "            cnt += 1\n",
    "        else :\n",
    "            n //= 2\n",
    "            cnt += 1\n",
    "        continue\n",
    "    \n",
    "    if n % 3 == 0:\n",
    "        n //= 3\n",
    "        cnt += 1\n",
    "    else : \n",
    "        n -= 1\n",
    "        cnt += 1\n",
    "\n",
    "print(cnt)"
   ]
  },
  {
   "cell_type": "code",
   "execution_count": null,
   "metadata": {},
   "outputs": [],
   "source": []
  }
 ],
 "metadata": {
  "kernelspec": {
   "display_name": "Python 3",
   "language": "python",
   "name": "python3"
  },
  "language_info": {
   "codemirror_mode": {
    "name": "ipython",
    "version": 3
   },
   "file_extension": ".py",
   "mimetype": "text/x-python",
   "name": "python",
   "nbconvert_exporter": "python",
   "pygments_lexer": "ipython3",
   "version": "3.10.0"
  },
  "orig_nbformat": 4,
  "vscode": {
   "interpreter": {
    "hash": "26de051ba29f2982a8de78e945f0abaf191376122a1563185a90213a26c5da77"
   }
  }
 },
 "nbformat": 4,
 "nbformat_minor": 2
}
