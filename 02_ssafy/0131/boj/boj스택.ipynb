{
 "cells": [
  {
   "cell_type": "code",
   "execution_count": null,
   "metadata": {},
   "outputs": [],
   "source": [
    "#10773 제로\n",
    "import sys\n",
    "input = sys.stdin.readline\n",
    "\n",
    "n = int(input().strip())\n",
    "\n",
    "result = []\n",
    "\n",
    "for _ in range(n):\n",
    "    number = int(input().strip())\n",
    "    if number == 0:\n",
    "        result.pop()\n",
    "    else:\n",
    "        result.append(number)\n",
    "\n",
    "print(sum(result))\n",
    "\n"
   ]
  },
  {
   "cell_type": "code",
   "execution_count": 1,
   "metadata": {},
   "outputs": [],
   "source": [
    "#9012 괄호\n",
    "import sys\n",
    "input = sys.stdin.readline\n",
    "\n",
    "n = int(input().strip())\n",
    "\n",
    "for _ in range(n):\n",
    "    result = []\n",
    "    vps = input().strip()\n",
    "\n",
    "    for v in vps:\n",
    "        try:\n",
    "            if v == \"(\":\n",
    "                result.append(1)\n",
    "            else:\n",
    "                result.pop()\n",
    "        except:\n",
    "            print(\"no\")\n",
    "            break\n",
    "    else:\n",
    "        print(\"yes\")"
   ]
  },
  {
   "cell_type": "code",
   "execution_count": null,
   "metadata": {},
   "outputs": [],
   "source": [
    "# 4949 균형잡힌 세상\n",
    "import sys\n",
    "input = sys.stdin.readline\n",
    "\n",
    "story_lst = list(input().strip().split('.'))\n",
    "\n",
    "for story in story_lst:\n",
    "    result1 = []\n",
    "    result2 = []\n",
    "\n",
    "    for le in story:\n",
    "        if le == \"(\":\n",
    "            result1.append(1)\n",
    "        elif le == \")\":\n",
    "            if result1:\n",
    "                result1.pop()\n",
    "            else:\n",
    "                print(\"no\")\n",
    "                break\n",
    "        elif le == \"[\":\n",
    "            result2.append(1)\n",
    "        elif le == \"]\":\n",
    "            if result2:\n",
    "                result2.pop()\n",
    "            else:\n",
    "                print(\"no\")\n",
    "                break\n",
    "    else:\n",
    "        if result1 == [] and result2 == []:\n",
    "            print(\"yes\")\n",
    "        else:\n",
    "            print(\"no\")"
   ]
  }
 ],
 "metadata": {
  "kernelspec": {
   "display_name": "Python 3",
   "language": "python",
   "name": "python3"
  },
  "language_info": {
   "codemirror_mode": {
    "name": "ipython",
    "version": 3
   },
   "file_extension": ".py",
   "mimetype": "text/x-python",
   "name": "python",
   "nbconvert_exporter": "python",
   "pygments_lexer": "ipython3",
   "version": "3.10.0"
  },
  "orig_nbformat": 4,
  "vscode": {
   "interpreter": {
    "hash": "26de051ba29f2982a8de78e945f0abaf191376122a1563185a90213a26c5da77"
   }
  }
 },
 "nbformat": 4,
 "nbformat_minor": 2
}
